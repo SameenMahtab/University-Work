{
  "nbformat": 4,
  "nbformat_minor": 0,
  "metadata": {
    "colab": {
      "name": "Miniproject2-comp551.ipynb",
      "provenance": [],
      "collapsed_sections": [],
      "toc_visible": true
    },
    "kernelspec": {
      "name": "python3",
      "display_name": "Python 3"
    }
  },
  "cells": [
    {
      "cell_type": "markdown",
      "metadata": {
        "id": "slqvCTrQegu5"
      },
      "source": [
        "# **COMP551 - Miniproject 2**"
      ]
    },
    {
      "cell_type": "code",
      "metadata": {
        "id": "YQf_Bv8aet22"
      },
      "source": [
        "import numpy as np\n",
        "%matplotlib inline\n",
        "import matplotlib.pyplot as plt\n",
        "from IPython.core.debugger import set_trace\n",
        "import warnings\n",
        "warnings.filterwarnings('ignore')\n",
        "import pandas as pd\n",
        "import sklearn\n",
        "from numpy import array\n",
        "from numpy import argmax\n",
        "from sklearn.preprocessing import LabelEncoder\n",
        "from sklearn.preprocessing import OneHotEncoder\n",
        "from sklearn.model_selection import train_test_split\n",
        "from sklearn import datasets\n",
        "from sklearn.metrics import accuracy_score\n",
        "from sklearn.preprocessing import MinMaxScaler\n",
        "import math\n",
        "import time\n",
        "from sklearn.model_selection import ParameterGrid\n",
        "from sklearn import metrics\n",
        "from sklearn.neighbors import KNeighborsClassifier\n",
        "from matplotlib.ticker import MaxNLocator"
      ],
      "execution_count": 51,
      "outputs": []
    },
    {
      "cell_type": "markdown",
      "metadata": {
        "id": "XTBxD5nwe0Rx"
      },
      "source": [
        "## Softmax Classifer Class"
      ]
    },
    {
      "cell_type": "code",
      "metadata": {
        "id": "-TwO7WkCe8gt"
      },
      "source": [
        "class SoftmaxRegression:\n",
        "    \n",
        "    def __init__(self, add_bias=True, folds=5):\n",
        "        self.add_bias = add_bias\n",
        "        self.historyW, self.history_minErrTrain, self.history_minErrVal, self.history_time=[],[],[],[]\n",
        "        self.numOfFolds=folds\n",
        "        self.mean_minErrTrain, self.mean_minErrVal, self.mean_time=0,0,0\n",
        "        \n",
        "        \n",
        "    def fit(self, f, optimizer):\n",
        "        minErrTraining,minErrValidation,time=0,0,0\n",
        "        \n",
        "        x_test, y_test, x_train, y_train=f\n",
        "        N,self.C = y_train.shape\n",
        "        N,self.D = x_train.shape\n",
        "        self.w = np.zeros((self.D,self.C))\n",
        "        \n",
        "        self.w,minErrTraining,minErrValidation,time = optimizer.run(x_train,y_train,x_test,y_test,self.w,True)\n",
        "        \n",
        "        self.historyW.append(self.w)\n",
        "        self.history_minErrTrain.append(minErrTraining)\n",
        "        self.history_minErrVal.append(minErrValidation)\n",
        "        self.history_time.append(time)        \n",
        "        \n",
        "        return self.w\n",
        "    \n",
        "    def softmax_loss(self,scores,y):\n",
        "        p=softmax(scores)\n",
        "        return -np.sum(y*np.log(p))\n",
        "    \n",
        "    def predict(self, x):\n",
        "        yh = softmax(x@self.w)            #predict output\n",
        "        return np.argmax(yh,axis=1)\n",
        "    \n",
        "    def endTraining(self):\n",
        "        self.w = np.zeros((self.D,self.C))\n",
        "        self.w=self.meanCalculation(self.w,self.historyW)\n",
        "        self.mean_minErrTrain=self.meanCalculation(self.mean_minErrTrain,self.history_minErrTrain)\n",
        "        self.mean_minErrVal=self.meanCalculation(self.mean_minErrVal,self.history_minErrVal)\n",
        "        self.mean_time=self.meanCalculation(self.mean_time,self.history_time)\n",
        "        print('Mean of performance parameters:')\n",
        "        print('Mean of training error='+str(self.mean_minErrTrain))\n",
        "        print('Mean of validation error='+str(self.mean_minErrVal))\n",
        "        print('Mean of time='+str(self.mean_time))\n",
        "        print('***************************************************')\n",
        "        return self.mean_minErrTrain, self.mean_minErrVal, self.mean_time\n",
        "        \n",
        "    def meanCalculation(self,item,history):\n",
        "        for i in range(0,len(history)):\n",
        "            item = history[i]+item\n",
        "        item/=self.numOfFolds\n",
        "        return item\n",
        "        "
      ],
      "execution_count": 25,
      "outputs": []
    },
    {
      "cell_type": "markdown",
      "metadata": {
        "id": "yc9hA0FofF2N"
      },
      "source": [
        "## Optimizer Class"
      ]
    },
    {
      "cell_type": "code",
      "metadata": {
        "id": "t03d58D0fIu1"
      },
      "source": [
        "class Optimizer:\n",
        "    \n",
        "    def __init__(self, learning_rate=.1, max_iters=1e5, epsilon=1e-8, mom=0.9, batchSize=32, tuning=False):\n",
        "        self.learning_rate = learning_rate\n",
        "        self.max_iters = max_iters\n",
        "        self.epsilon = epsilon\n",
        "        self.mom=mom\n",
        "        self.validation_err_decreasing=True\n",
        "        self.batchSize=batchSize\n",
        "        self.tuning=tuning\n",
        "            \n",
        "    def run(self,X, Y, X_validation, Y_validation, w, validation):\n",
        "        start_time = time.time()\n",
        "        self.w=w\n",
        "        N,D=X.shape\n",
        "        grad = np.inf\n",
        "        numOfBatch=math.ceil(N/self.batchSize)\n",
        "        delta_w=0\n",
        "        t, epoch = 0,0\n",
        "        self.w_history=[]\n",
        "        validationLoss,trainingloss=[],[]\n",
        "        trainingError,validationError=[],[]\n",
        "        minibatches=self.get_minibatch(X,Y,self.batchSize)           # get all batches\n",
        "        minErrValidation=1000\n",
        "        minErrTraining=1000\n",
        "        earlyStoppingError_train=[]\n",
        "        earlyStoppingError_validation=[]\n",
        "        \n",
        "        while np.linalg.norm(grad) > self.epsilon and t < self.max_iters and self.validation_err_decreasing:\n",
        "            x_validation,y_validation=X_validation,Y_validation\n",
        "            x2grad, y2grad = minibatches[int(t%numOfBatch)]     # select the next batch from the list of batches\n",
        "            grad = self.gradient(x2grad, y2grad, self.w)        # compute the gradient for the random batch with present weight\n",
        "            delta_w = self.mom*delta_w + (1-self.mom)*grad\n",
        "            self.w = self.w - self.learning_rate * delta_w      # weight update step\n",
        "            self.w_history.append(self.w)\n",
        "            earlyStoppingError_train.append(self.errorEstimation(x2grad,y2grad,self.w))\n",
        "            earlyStoppingError_validation.append(self.errorEstimation(x_validation,y_validation,self.w))\n",
        "            \n",
        "            if(t%numOfBatch==0 and t>0):                        # end of epoch\n",
        "                epoch+=1\n",
        "                trainingloss.append(self.softmax_loss(x2grad,y2grad,self.w))\n",
        "                trainingError.append(self.errorEstimation(x2grad,y2grad,self.w))\n",
        "                \n",
        "                if(validation):\n",
        "                    validationLoss.append(self.softmax_loss(x_validation,y_validation,self.w))\n",
        "                    validationError.append(self.errorEstimation(x_validation,y_validation,self.w))\n",
        "                    self.validation_err_decreasing=self.checkValidationPattern(validationError[-20:])\n",
        "                    \n",
        "                    if(not self.validation_err_decreasing and t>20):\n",
        "                        minErrorIndex=np.argmin(validationError[-20:])\n",
        "                        minErrValidation=validationError[-20+minErrorIndex]\n",
        "                        minErrTraining=trainingError[-20+minErrorIndex]                        \n",
        "                        self.w=self.w_history[-20+minErrorIndex]\n",
        "            t += 1\n",
        "            \n",
        "        if( minErrValidation==1000):\n",
        "            if(len(validationError)==0):\n",
        "                validationError=earlyStoppingError_validation\n",
        "                trainingError=earlyStoppingError_train\n",
        "            minErrValidation=validationError[-1]\n",
        "            minErrTraining=trainingError[-1] \n",
        "        \n",
        "        end_time = time.time()-start_time\n",
        "\n",
        "        if(not self.tuning):\n",
        "            print(f'terminated after {t} iterations, with norm of the gradient equal to {np.linalg.norm(grad)}')\n",
        "            print('minimum training error='+str(minErrTraining))\n",
        "            print('minimum validation error='+str(minErrValidation))\n",
        "            print('time='+str(end_time))\n",
        "            #self.plotTrainValidationError(trainingloss,validationLoss,'Loss')\n",
        "            self.plotTrainValidationError(trainingError,validationError,'Error')\n",
        "            \n",
        "        return self.w,minErrTraining,minErrValidation,end_time\n",
        "    \n",
        "    def gradient(self, x, y, w):\n",
        "        N,D = x.shape\n",
        "        yh = softmax(np.dot(x,w))           # predictions  size N\n",
        "        grad = np.dot(x.T, yh - y)/N        # divide by N because cost is mean over N points\n",
        "        return grad\n",
        "\n",
        "    def get_minibatch(self,x, y, batch_size):\n",
        "        minibatches = []                                #an array of batches of size 'batch_size'\n",
        "        for i in range(0, x.shape[0], batch_size):\n",
        "            x_batch = x[i:i + batch_size]\n",
        "            y_batch = y[i:i + batch_size]\n",
        "            minibatches.append((x_batch, y_batch))\n",
        "        return minibatches\n",
        "    \n",
        "    def softmax_loss(self,x,y,w):\n",
        "        p=softmax(np.dot(x,w))\n",
        "        return -np.sum(y*np.log(p))\n",
        "    \n",
        "    def checkValidationPattern(self,validationLoss):\n",
        "        if(len(validationLoss)<20):\n",
        "            return True\n",
        "        return not all(x<=y for x, y in zip(validationLoss, validationLoss[1:]))\n",
        "                                     \n",
        "    def errorEstimation(self,x,y,w):\n",
        "        yh = softmax(x@w)            #predict output\n",
        "        return (((y-yh)**2)/2).sum()\n",
        "    \n",
        "    def plotTrainValidationError(self,trainingloss,validationLoss,title):\n",
        "        plt.plot(trainingloss, label = \"Training \")\n",
        "        plt.plot(validationLoss, label = \"Validation \")\n",
        "        plt.xlabel('Epoch')\n",
        "        plt.ylabel(title)\n",
        "        plt.title('Training vs Validation '+title)\n",
        "        plt.legend()\n",
        "        plt.show()"
      ],
      "execution_count": 34,
      "outputs": []
    },
    {
      "cell_type": "markdown",
      "metadata": {
        "id": "LTw9msOxw8RC"
      },
      "source": [
        "## Useful Functions"
      ]
    },
    {
      "cell_type": "markdown",
      "metadata": {
        "id": "a6wBApU_xHwY"
      },
      "source": [
        "### softmax function\n",
        "This function calculates the softmax values of a given matrix"
      ]
    },
    {
      "cell_type": "code",
      "metadata": {
        "id": "JwdlA1iBxDba"
      },
      "source": [
        "def softmax (x):\n",
        "    z=np.exp(x)\n",
        "    x=np.exp(x)/np.sum(z,axis=1)[:,None]\n",
        "    return x"
      ],
      "execution_count": 27,
      "outputs": []
    },
    {
      "cell_type": "markdown",
      "metadata": {
        "id": "uY99iKW2xC3q"
      },
      "source": [
        "### crossSplit Function\n",
        "This function creates training and validation folds"
      ]
    },
    {
      "cell_type": "code",
      "metadata": {
        "id": "Fn49etBTxVjO"
      },
      "source": [
        "def crossSplit(x,y,numOfFolds):\n",
        "    N,D = x.shape\n",
        "    foldSize=int(N/numOfFolds)\n",
        "    crossFolds = []\n",
        "    for i in range(0, N-foldSize+1, foldSize):\n",
        "        x_test = x[i:i + foldSize]\n",
        "        y_test = y[i:i + foldSize]\n",
        "        x_train = x[i+foldSize:]\n",
        "        y_train = y[i+foldSize:]\n",
        "        if(i>0):\n",
        "            x_train = np.concatenate((x_train, x[0:i]))\n",
        "            y_train = np.concatenate((y_train, y[0:i]))\n",
        "        crossFolds.append((x_test, y_test, x_train, y_train))\n",
        "    return crossFolds"
      ],
      "execution_count": 28,
      "outputs": []
    },
    {
      "cell_type": "markdown",
      "metadata": {
        "id": "krVoQGSnxseO"
      },
      "source": [
        "### onehotcoder function\n",
        "This function returns a one hot matrix of the received labels"
      ]
    },
    {
      "cell_type": "code",
      "metadata": {
        "id": "Uzd8M08-xu9S"
      },
      "source": [
        "def onehotcoder(y):\n",
        "    values = array(y)\n",
        "    label_encoder = LabelEncoder()\n",
        "    integer_encoded = label_encoder.fit_transform(values)\n",
        "    onehot_encoder = OneHotEncoder(sparse=False)\n",
        "    integer_encoded = integer_encoded.reshape(len(integer_encoded), 1)\n",
        "    onehot_encoded = onehot_encoder.fit_transform(integer_encoded)\n",
        "    return onehot_encoded"
      ],
      "execution_count": 29,
      "outputs": []
    },
    {
      "cell_type": "markdown",
      "metadata": {
        "id": "M8P2nV1ix5Hp"
      },
      "source": [
        "## Tuning Hyperparameters - Softmax\n",
        "In this part hyperparameters for Softmax classifier are tuned using a grid search. The values to be tested are: {'learning_rate': [0.1,0.01,0.001], 'momentum': [0.9,0.8,0.7], 'batchSize':[8,16,32,64]}"
      ]
    },
    {
      "cell_type": "markdown",
      "metadata": {
        "id": "WkOtoMVvyW7O"
      },
      "source": [
        "### First Dataset: Digits"
      ]
    },
    {
      "cell_type": "code",
      "metadata": {
        "colab": {
          "base_uri": "https://localhost:8080/"
        },
        "id": "bCcv4DR7yUXT",
        "outputId": "defd6798-5ae5-43de-a3fb-75704d9d8419"
      },
      "source": [
        "#importing dataset\n",
        "x, y = datasets.load_digits(return_X_y=True)\n",
        "\n",
        "# Preprocessing\n",
        "if x.ndim == 1:\n",
        "    x = x[:, None]\n",
        "N = x.shape[0]\n",
        "x = np.column_stack([x,np.ones(N)])\n",
        "\n",
        "X_train, X_test, y_train, y_test = train_test_split(x, y, test_size=0.2, random_state=42)   # choose 20% of the data for the final test\n",
        "y_train=onehotcoder(y_train)\n",
        "numOfFolds=5\n",
        "folds=crossSplit(X_train,y_train,numOfFolds)                                                # creating 5 folds\n",
        "\n",
        "mean_minErrTrain, mean_minErrVal, mean_time=0,0,0                                           # values to be stored for performance analysis\n",
        "\n",
        "#creating the parameter grid\n",
        "GridSearchResult = pd.DataFrame (columns = ['Learning rate','Momentum','Batch size','Mean of Training Error','Mean of Validation Error','Time'])\n",
        "param_grid = {'learning_rate': [0.1,0.01,0.001], 'momentum': [0.9,0.8,0.7], 'batchSize':[8,16,32,64]}\n",
        "paramList=list(ParameterGrid(param_grid))\n",
        "\n",
        "#Start evaluating the model based on different combination of hyperparameter values\n",
        "for i in paramList:\n",
        "    counter=1\n",
        "    lr=i['learning_rate']\n",
        "    momentum=i['momentum']\n",
        "    bSize=i['batchSize']\n",
        "    softreg = SoftmaxRegression(folds=5)\n",
        "    print('learning_rate='+str(lr))\n",
        "    print('momentum='+str(momentum))\n",
        "    print('batch size='+str(bSize))\n",
        "    for f in folds:                     # do a five fold cross validation\n",
        "        opt=Optimizer(learning_rate=lr, mom=momentum, batchSize=bSize, tuning=True) # in each fold, we create a new instance of the class Optimizer\n",
        "        w=softreg.fit(f,opt)\n",
        "        counter+=1\n",
        "    mean_minErrTrain, mean_minErrVal, mean_time=softreg.endTraining()               # by end of training, the mean value for performance variables are returned\n",
        "    new_row = {'Learning rate':lr, 'Momentum':momentum, 'Batch size':bSize,         # storing the performance value for the current hyperparameter combination\n",
        "               'Mean of Training Error':mean_minErrTrain, 'Mean of Validation Error':mean_minErrVal, 'Time':mean_time}\n",
        "    GridSearchResult = GridSearchResult.append(new_row, ignore_index=True)"
      ],
      "execution_count": 30,
      "outputs": [
        {
          "output_type": "stream",
          "text": [
            "learning_rate=0.1\n",
            "momentum=0.9\n",
            "batch size=8\n",
            "Mean of performance parameters:\n",
            "Mean of training error=2.983951069836224e-10\n",
            "Mean of validation error=35.758357261578695\n",
            "Mean of time=0.02921609878540039\n",
            "***************************************************\n",
            "learning_rate=0.1\n",
            "momentum=0.8\n",
            "batch size=8\n",
            "Mean of performance parameters:\n",
            "Mean of training error=1.93454469346063e-06\n",
            "Mean of validation error=54.80232777288796\n",
            "Mean of time=0.02045159339904785\n",
            "***************************************************\n",
            "learning_rate=0.1\n",
            "momentum=0.7\n",
            "batch size=8\n",
            "Mean of performance parameters:\n",
            "Mean of training error=3.778810048268264e-07\n",
            "Mean of validation error=62.183462711343395\n",
            "Mean of time=0.016807985305786134\n",
            "***************************************************\n",
            "learning_rate=0.01\n",
            "momentum=0.9\n",
            "batch size=8\n",
            "Mean of performance parameters:\n",
            "Mean of training error=0.01400346186011929\n",
            "Mean of validation error=8.769179755070777\n",
            "Mean of time=3.092121982574463\n",
            "***************************************************\n",
            "learning_rate=0.01\n",
            "momentum=0.8\n",
            "batch size=8\n",
            "Mean of performance parameters:\n",
            "Mean of training error=0.006585343032184854\n",
            "Mean of validation error=8.76824408481097\n",
            "Mean of time=2.8923717021942137\n",
            "***************************************************\n",
            "learning_rate=0.01\n",
            "momentum=0.7\n",
            "batch size=8\n",
            "Mean of performance parameters:\n",
            "Mean of training error=0.0042636771770034835\n",
            "Mean of validation error=8.794609566722055\n",
            "Mean of time=3.019727897644043\n",
            "***************************************************\n",
            "learning_rate=0.001\n",
            "momentum=0.9\n",
            "batch size=8\n",
            "Mean of performance parameters:\n",
            "Mean of training error=0.037328441736776484\n",
            "Mean of validation error=8.055446397117928\n",
            "Mean of time=8.04997215270996\n",
            "***************************************************\n",
            "learning_rate=0.001\n",
            "momentum=0.8\n",
            "batch size=8\n",
            "Mean of performance parameters:\n",
            "Mean of training error=0.035899318834245374\n",
            "Mean of validation error=8.049120175953139\n",
            "Mean of time=8.522154903411865\n",
            "***************************************************\n",
            "learning_rate=0.001\n",
            "momentum=0.7\n",
            "batch size=8\n",
            "Mean of performance parameters:\n",
            "Mean of training error=0.03415085064914748\n",
            "Mean of validation error=8.050315738957504\n",
            "Mean of time=8.637628984451293\n",
            "***************************************************\n",
            "learning_rate=0.1\n",
            "momentum=0.9\n",
            "batch size=16\n",
            "Mean of performance parameters:\n",
            "Mean of training error=0.7253044382145257\n",
            "Mean of validation error=28.27556663092522\n",
            "Mean of time=0.09819283485412597\n",
            "***************************************************\n",
            "learning_rate=0.1\n",
            "momentum=0.8\n",
            "batch size=16\n",
            "Mean of performance parameters:\n",
            "Mean of training error=0.9937986950402834\n",
            "Mean of validation error=26.71731121992669\n",
            "Mean of time=0.056759214401245116\n",
            "***************************************************\n",
            "learning_rate=0.1\n",
            "momentum=0.7\n",
            "batch size=16\n",
            "Mean of performance parameters:\n",
            "Mean of training error=0.5689423007606562\n",
            "Mean of validation error=28.0053040423064\n",
            "Mean of time=0.05825357437133789\n",
            "***************************************************\n",
            "learning_rate=0.01\n",
            "momentum=0.9\n",
            "batch size=16\n",
            "Mean of performance parameters:\n",
            "Mean of training error=0.01976595179383195\n",
            "Mean of validation error=8.588597924620688\n",
            "Mean of time=1.7169588088989258\n",
            "***************************************************\n",
            "learning_rate=0.01\n",
            "momentum=0.8\n",
            "batch size=16\n",
            "Mean of performance parameters:\n",
            "Mean of training error=0.05639704719055971\n",
            "Mean of validation error=8.432305700881141\n",
            "Mean of time=1.0176543712615966\n",
            "***************************************************\n",
            "learning_rate=0.01\n",
            "momentum=0.7\n",
            "batch size=16\n",
            "Mean of performance parameters:\n",
            "Mean of training error=0.027560126767807912\n",
            "Mean of validation error=8.384656711916291\n",
            "Mean of time=1.6417882919311524\n",
            "***************************************************\n",
            "learning_rate=0.001\n",
            "momentum=0.9\n",
            "batch size=16\n",
            "Mean of performance parameters:\n",
            "Mean of training error=0.05567631716196908\n",
            "Mean of validation error=8.060985193359048\n",
            "Mean of time=7.906922006607056\n",
            "***************************************************\n",
            "learning_rate=0.001\n",
            "momentum=0.8\n",
            "batch size=16\n",
            "Mean of performance parameters:\n",
            "Mean of training error=0.054861629349189034\n",
            "Mean of validation error=8.036458831264966\n",
            "Mean of time=7.833900499343872\n",
            "***************************************************\n",
            "learning_rate=0.001\n",
            "momentum=0.7\n",
            "batch size=16\n",
            "Mean of performance parameters:\n",
            "Mean of training error=0.053742079382573006\n",
            "Mean of validation error=8.027295904321704\n",
            "Mean of time=7.795578050613403\n",
            "***************************************************\n",
            "learning_rate=0.1\n",
            "momentum=0.9\n",
            "batch size=32\n",
            "Mean of performance parameters:\n",
            "Mean of training error=1.4694475559392122e-07\n",
            "Mean of validation error=11.534702840828762\n",
            "Mean of time=15.201955556869507\n",
            "***************************************************\n",
            "learning_rate=0.1\n",
            "momentum=0.8\n",
            "batch size=32\n",
            "Mean of performance parameters:\n",
            "Mean of training error=2.781483566653466e-07\n",
            "Mean of validation error=11.430275038396672\n",
            "Mean of time=19.852923679351807\n",
            "***************************************************\n",
            "learning_rate=0.1\n",
            "momentum=0.7\n",
            "batch size=32\n",
            "Mean of performance parameters:\n",
            "Mean of training error=7.716915737541537e-06\n",
            "Mean of validation error=11.099003509249325\n",
            "Mean of time=17.543263292312623\n",
            "***************************************************\n",
            "learning_rate=0.01\n",
            "momentum=0.9\n",
            "batch size=32\n",
            "Mean of performance parameters:\n",
            "Mean of training error=0.25302423219585635\n",
            "Mean of validation error=8.487277194231485\n",
            "Mean of time=0.7311213970184326\n",
            "***************************************************\n",
            "learning_rate=0.01\n",
            "momentum=0.8\n",
            "batch size=32\n",
            "Mean of performance parameters:\n",
            "Mean of training error=0.09410392814901061\n",
            "Mean of validation error=8.324464740316323\n",
            "Mean of time=1.0248859882354737\n",
            "***************************************************\n",
            "learning_rate=0.01\n",
            "momentum=0.7\n",
            "batch size=32\n",
            "Mean of performance parameters:\n",
            "Mean of training error=0.09071835053839615\n",
            "Mean of validation error=8.300020560772422\n",
            "Mean of time=1.0411070346832276\n",
            "***************************************************\n",
            "learning_rate=0.001\n",
            "momentum=0.9\n",
            "batch size=32\n",
            "Mean of performance parameters:\n",
            "Mean of training error=0.09556551393475313\n",
            "Mean of validation error=8.063834303272868\n",
            "Mean of time=8.326540279388428\n",
            "***************************************************\n",
            "learning_rate=0.001\n",
            "momentum=0.8\n",
            "batch size=32\n",
            "Mean of performance parameters:\n",
            "Mean of training error=0.09675396614870586\n",
            "Mean of validation error=8.055589384867691\n",
            "Mean of time=8.32175145149231\n",
            "***************************************************\n",
            "learning_rate=0.001\n",
            "momentum=0.7\n",
            "batch size=32\n",
            "Mean of performance parameters:\n",
            "Mean of training error=0.09651277931006283\n",
            "Mean of validation error=8.046881925926039\n",
            "Mean of time=8.253793478012085\n",
            "***************************************************\n",
            "learning_rate=0.1\n",
            "momentum=0.9\n",
            "batch size=64\n",
            "Mean of performance parameters:\n",
            "Mean of training error=0.00015589398257831132\n",
            "Mean of validation error=10.817107475168061\n",
            "Mean of time=23.794269180297853\n",
            "***************************************************\n",
            "learning_rate=0.1\n",
            "momentum=0.8\n",
            "batch size=64\n",
            "Mean of performance parameters:\n",
            "Mean of training error=0.0004280230594970124\n",
            "Mean of validation error=10.83933566184064\n",
            "Mean of time=5.999504613876343\n",
            "***************************************************\n",
            "learning_rate=0.1\n",
            "momentum=0.7\n",
            "batch size=64\n",
            "Mean of performance parameters:\n",
            "Mean of training error=0.003286404139514998\n",
            "Mean of validation error=10.38083929279399\n",
            "Mean of time=0.7782114028930665\n",
            "***************************************************\n",
            "learning_rate=0.01\n",
            "momentum=0.9\n",
            "batch size=64\n",
            "Mean of performance parameters:\n",
            "Mean of training error=0.2533547700628228\n",
            "Mean of validation error=8.16412583271592\n",
            "Mean of time=1.1451539516448974\n",
            "***************************************************\n",
            "learning_rate=0.01\n",
            "momentum=0.8\n",
            "batch size=64\n",
            "Mean of performance parameters:\n",
            "Mean of training error=0.2556206411778847\n",
            "Mean of validation error=8.123765155447224\n",
            "Mean of time=1.2152533531188965\n",
            "***************************************************\n",
            "learning_rate=0.01\n",
            "momentum=0.7\n",
            "batch size=64\n",
            "Mean of performance parameters:\n",
            "Mean of training error=0.26988477884279427\n",
            "Mean of validation error=8.083052036891448\n",
            "Mean of time=1.114013147354126\n",
            "***************************************************\n",
            "learning_rate=0.001\n",
            "momentum=0.9\n",
            "batch size=64\n",
            "Mean of performance parameters:\n",
            "Mean of training error=0.2624738463318416\n",
            "Mean of validation error=8.057737184668317\n",
            "Mean of time=9.847391939163208\n",
            "***************************************************\n",
            "learning_rate=0.001\n",
            "momentum=0.8\n",
            "batch size=64\n",
            "Mean of performance parameters:\n",
            "Mean of training error=0.26331927832624363\n",
            "Mean of validation error=8.057096583186933\n",
            "Mean of time=9.80917043685913\n",
            "***************************************************\n",
            "learning_rate=0.001\n",
            "momentum=0.7\n",
            "batch size=64\n",
            "Mean of performance parameters:\n",
            "Mean of training error=0.2636372157531013\n",
            "Mean of validation error=8.055233428810263\n",
            "Mean of time=9.830642890930175\n",
            "***************************************************\n"
          ],
          "name": "stdout"
        }
      ]
    },
    {
      "cell_type": "markdown",
      "metadata": {
        "id": "njxUnQ_myTxI"
      },
      "source": [
        "Now that we have the performance information of every combination of hyperparameters, we will select the row that contains the lowest Mean of Validation Error as our candidate."
      ]
    },
    {
      "cell_type": "code",
      "metadata": {
        "colab": {
          "base_uri": "https://localhost:8080/"
        },
        "id": "IJqpdxjN2dBJ",
        "outputId": "3054773b-15e5-47cc-baa6-fa0cbb78f18d"
      },
      "source": [
        "GridSearchResult=GridSearchResult.append(GridSearchResult.min(numeric_only=True), ignore_index=True)\n",
        "\n",
        "leastMVE=GridSearchResult.iloc[-1]['Mean of Validation Error']\n",
        "tunedLearningRate=GridSearchResult.loc[GridSearchResult['Mean of Validation Error']==leastMVE,'Learning rate'].iloc[0]\n",
        "tunedMomentum=GridSearchResult.loc[GridSearchResult['Mean of Validation Error']==leastMVE,'Momentum'].iloc[0]\n",
        "tunedBatchSize=GridSearchResult.loc[GridSearchResult['Mean of Validation Error']==leastMVE,'Batch size'].iloc[0]\n",
        "\n",
        "print('The lowest Mean of Validation Error is :'+str(leastMVE))\n",
        "print('acquired while learning rate = '+str(tunedLearningRate)+', momentum = '+str(tunedMomentum)+' and batch size = '+str(tunedBatchSize))"
      ],
      "execution_count": 32,
      "outputs": [
        {
          "output_type": "stream",
          "text": [
            "The lowest Mean of Validation Error is :8.027295904321704\n",
            "acquired while learning rate = 0.001, momentum = 0.7 and batch size = 16.0\n"
          ],
          "name": "stdout"
        }
      ]
    },
    {
      "cell_type": "code",
      "metadata": {
        "colab": {
          "base_uri": "https://localhost:8080/"
        },
        "id": "GmQ3qOdINCEn",
        "outputId": "fbb36b39-55b1-485c-9863-8e402c6781e8"
      },
      "source": [
        "x=GridSearchResult.loc[GridSearchResult['Mean of Validation Error']==leastMVE,'Mean of Training Error'].iloc[0]\n",
        "print(x)"
      ],
      "execution_count": 58,
      "outputs": [
        {
          "output_type": "stream",
          "text": [
            "0.053742079382573006\n"
          ],
          "name": "stdout"
        }
      ]
    },
    {
      "cell_type": "markdown",
      "metadata": {
        "id": "uEDTr7iC2hIc"
      },
      "source": [
        "**Fitting the Softmax Model**\n",
        "\n",
        "We have tuned our hyperparameters and now we can fit the model with training data using a five fold cross validation approach"
      ]
    },
    {
      "cell_type": "code",
      "metadata": {
        "colab": {
          "base_uri": "https://localhost:8080/",
          "height": 1000
        },
        "id": "RQxXgsBU2-Ya",
        "outputId": "0e697358-c04f-4fdb-f7a0-6cbfb27d753f"
      },
      "source": [
        "#loading the dataset\n",
        "x, y = datasets.load_digits(return_X_y=True)\n",
        "\n",
        "# Preprocessing\n",
        "if x.ndim == 1:\n",
        "    x = x[:, None]\n",
        "N = x.shape[0]\n",
        "x = np.column_stack([x,np.ones(N)])\n",
        "\n",
        "X_train, X_test, y_train, y_test = train_test_split(x, y, test_size=0.2, random_state=42)\n",
        "y_train=onehotcoder(y_train)\n",
        "\n",
        "numOfFolds=5\n",
        "folds=crossSplit(X_train,y_train,numOfFolds)\n",
        "counter=1\n",
        "\n",
        "softreg = SoftmaxRegression(folds=5)\n",
        "for f in folds:\n",
        "    print('Fold '+str(counter))\n",
        "    opt=Optimizer(learning_rate=tunedLearningRate, mom=tunedMomentum, batchSize=int(tunedBatchSize), tuning=False)\n",
        "    w=softreg.fit(f,opt)\n",
        "    counter+=1\n",
        "softreg.endTraining()"
      ],
      "execution_count": 35,
      "outputs": [
        {
          "output_type": "stream",
          "text": [
            "Fold 1\n",
            "terminated after 16129 iterations, with norm of the gradient equal to 0.5619171132798464\n",
            "minimum training error=0.018287900199293123\n",
            "minimum validation error=6.474013503261845\n",
            "time=5.436269044876099\n"
          ],
          "name": "stdout"
        },
        {
          "output_type": "display_data",
          "data": {
            "image/png": "[encoded data removed]",
            "text/plain": [
              "<Figure size 432x288 with 1 Axes>"
            ]
          },
          "metadata": {
            "tags": [],
            "needs_background": "light"
          }
        },
        {
          "output_type": "stream",
          "text": [
            "Fold 2\n",
            "terminated after 54073 iterations, with norm of the gradient equal to 0.6737349530331828\n",
            "minimum training error=0.018786880442953742\n",
            "minimum validation error=6.455777695703041\n",
            "time=16.50770330429077\n"
          ],
          "name": "stdout"
        },
        {
          "output_type": "display_data",
          "data": {
            "image/png": "[encoded data removed]",
            "text/plain": [
              "<Figure size 432x288 with 1 Axes>"
            ]
          },
          "metadata": {
            "tags": [],
            "needs_background": "light"
          }
        },
        {
          "output_type": "stream",
          "text": [
            "Fold 3\n",
            "terminated after 35929 iterations, with norm of the gradient equal to 0.5086784091629601\n",
            "minimum training error=0.008349772166502878\n",
            "minimum validation error=8.974343962719935\n",
            "time=10.555612564086914\n"
          ],
          "name": "stdout"
        },
        {
          "output_type": "display_data",
          "data": {
            "image/png": "[encoded data removed]",
            "text/plain": [
              "<Figure size 432x288 with 1 Axes>"
            ]
          },
          "metadata": {
            "tags": [],
            "needs_background": "light"
          }
        },
        {
          "output_type": "stream",
          "text": [
            "Fold 4\n",
            "terminated after 20809 iterations, with norm of the gradient equal to 2.3739886382019377\n",
            "minimum training error=0.15059635857677361\n",
            "minimum validation error=5.527845249124602\n",
            "time=6.178697347640991\n"
          ],
          "name": "stdout"
        },
        {
          "output_type": "display_data",
          "data": {
            "image/png": "[encoded data removed]",
            "text/plain": [
              "<Figure size 432x288 with 1 Axes>"
            ]
          },
          "metadata": {
            "tags": [],
            "needs_background": "light"
          }
        },
        {
          "output_type": "stream",
          "text": [
            "Fold 5\n",
            "terminated after 9001 iterations, with norm of the gradient equal to 1.197796115223343\n",
            "minimum training error=0.07268948552734164\n",
            "minimum validation error=12.704499110799098\n",
            "time=2.643839120864868\n"
          ],
          "name": "stdout"
        },
        {
          "output_type": "display_data",
          "data": {
            "image/png": "[encoded data removed]",
            "text/plain": [
              "<Figure size 432x288 with 1 Axes>"
            ]
          },
          "metadata": {
            "tags": [],
            "needs_background": "light"
          }
        },
        {
          "output_type": "stream",
          "text": [
            "Mean of performance parameters:\n",
            "Mean of training error=0.053742079382573006\n",
            "Mean of validation error=8.027295904321704\n",
            "Mean of time=8.264424276351928\n",
            "***************************************************\n"
          ],
          "name": "stdout"
        },
        {
          "output_type": "execute_result",
          "data": {
            "text/plain": [
              "(0.053742079382573006, 8.027295904321704, 8.264424276351928)"
            ]
          },
          "metadata": {
            "tags": []
          },
          "execution_count": 35
        }
      ]
    },
    {
      "cell_type": "markdown",
      "metadata": {
        "id": "B0f971Hh3MW9"
      },
      "source": [
        "**Testing the Softmax Model**\n",
        "\n",
        "The model is fitted with training data. Let's test its accuracy using unseen data."
      ]
    },
    {
      "cell_type": "code",
      "metadata": {
        "colab": {
          "base_uri": "https://localhost:8080/"
        },
        "id": "mCuTRz6r3b6Z",
        "outputId": "fdee4c97-94f3-4907-d33f-0c2fd7750083"
      },
      "source": [
        "yh=softreg.predict(X_test)\n",
        "print('Model accuracy is :'+'%.2f'%accuracy_score(y_test, yh))"
      ],
      "execution_count": 36,
      "outputs": [
        {
          "output_type": "stream",
          "text": [
            "Model accuracy is :0.97\n"
          ],
          "name": "stdout"
        }
      ]
    },
    {
      "cell_type": "markdown",
      "metadata": {
        "id": "A4F86uNq5Szg"
      },
      "source": [
        "### Second Dataset: Vehicles\n",
        "Same process is done for the second dataset"
      ]
    },
    {
      "cell_type": "code",
      "metadata": {
        "colab": {
          "base_uri": "https://localhost:8080/"
        },
        "id": "O7HfxIGD5i04",
        "outputId": "72f7f4e5-1a56-4028-b2eb-e9909fdcae56"
      },
      "source": [
        "#dataset 2\n",
        "from sklearn.utils import shuffle\n",
        "\n",
        "scaler = MinMaxScaler()\n",
        "df=pd.read_csv('vehicle.csv', sep=',')\n",
        "df = shuffle(df)\n",
        "\n",
        "# Preprocessing\n",
        "df = df.astype({\"Class\":'category'})\n",
        "x=df.iloc[:,:-1]\n",
        "y=df.iloc[:,-1]\n",
        "x[:] = scaler.fit_transform(x[:])\n",
        "y = y.cat.codes\n",
        "\n",
        "if x.ndim == 1:\n",
        "    x = x[:, None]\n",
        "N = x.shape[0]\n",
        "x = np.column_stack([x,np.ones(N)])\n",
        "\n",
        "X_train, X_test, y_train, y_test = train_test_split(x, y, test_size=0.2, random_state=42)\n",
        "y_train=onehotcoder(y_train)\n",
        "numOfFolds=5\n",
        "folds=crossSplit(X_train,y_train,numOfFolds)\n",
        "\n",
        "mean_minErrTrain, mean_minErrVal, mean_time=0,0,0\n",
        "GridSearchResult2 = pd.DataFrame (columns = ['Learning rate','Momentum','Batch size','Mean of Training Error',\n",
        "                                                  'Mean of Validation Error','Time'])\n",
        "\n",
        "param_grid = {'learning_rate': [0.1,0.01,0.001], 'momentum': [0.9,0.8,0.7], 'batchSize':[8,16,32,64]}\n",
        "paramList=list(ParameterGrid(param_grid))\n",
        "\n",
        "for i in paramList:\n",
        "    counter=1\n",
        "    lr=i['learning_rate']\n",
        "    momentum=i['momentum']\n",
        "    bSize=i['batchSize']\n",
        "    softreg = SoftmaxRegression(folds=5)\n",
        "    print('learning_rate='+str(lr))\n",
        "    print('momentum='+str(momentum))\n",
        "    print('batch size='+str(bSize))\n",
        "    for f in folds:\n",
        "        opt=Optimizer(learning_rate=lr, mom=momentum, batchSize=bSize, tuning=True)\n",
        "        w=softreg.fit(f,opt)\n",
        "        counter+=1\n",
        "    mean_minErrTrain, mean_minErrVal, mean_time=softreg.endTraining()\n",
        "    new_row = {'Learning rate':lr, 'Momentum':momentum, 'Batch size':bSize,\n",
        "               'Mean of Training Error':mean_minErrTrain, 'Mean of Validation Error':mean_minErrVal, 'Time':mean_time}\n",
        "    GridSearchResult2 = GridSearchResult2.append(new_row, ignore_index=True)"
      ],
      "execution_count": 39,
      "outputs": [
        {
          "output_type": "stream",
          "text": [
            "learning_rate=0.1\n",
            "momentum=0.9\n",
            "batch size=8\n",
            "Mean of performance parameters:\n",
            "Mean of training error=1.203174065927787\n",
            "Mean of validation error=19.479875566939775\n",
            "Mean of time=12.196096324920655\n",
            "***************************************************\n",
            "learning_rate=0.1\n",
            "momentum=0.8\n",
            "batch size=8\n",
            "Mean of performance parameters:\n",
            "Mean of training error=1.1888293123500726\n",
            "Mean of validation error=19.431414188656905\n",
            "Mean of time=13.32831106185913\n",
            "***************************************************\n",
            "learning_rate=0.1\n",
            "momentum=0.7\n",
            "batch size=8\n",
            "Mean of performance parameters:\n",
            "Mean of training error=1.1797221727785492\n",
            "Mean of validation error=19.403345511627304\n",
            "Mean of time=12.236554813385009\n",
            "***************************************************\n",
            "learning_rate=0.01\n",
            "momentum=0.9\n",
            "batch size=8\n",
            "Mean of performance parameters:\n",
            "Mean of training error=1.4431302867091447\n",
            "Mean of validation error=25.97279658297585\n",
            "Mean of time=12.130016183853149\n",
            "***************************************************\n",
            "learning_rate=0.01\n",
            "momentum=0.8\n",
            "batch size=8\n",
            "Mean of performance parameters:\n",
            "Mean of training error=1.4446311547922366\n",
            "Mean of validation error=25.97058694200686\n",
            "Mean of time=12.213127756118775\n",
            "***************************************************\n",
            "learning_rate=0.01\n",
            "momentum=0.7\n",
            "batch size=8\n",
            "Mean of performance parameters:\n",
            "Mean of training error=1.4447130301153923\n",
            "Mean of validation error=25.96759799782476\n",
            "Mean of time=12.101304292678833\n",
            "***************************************************\n",
            "learning_rate=0.001\n",
            "momentum=0.9\n",
            "batch size=8\n",
            "Mean of performance parameters:\n",
            "Mean of training error=2.357499009405223\n",
            "Mean of validation error=39.57712996233143\n",
            "Mean of time=12.219693613052367\n",
            "***************************************************\n",
            "learning_rate=0.001\n",
            "momentum=0.8\n",
            "batch size=8\n",
            "Mean of performance parameters:\n",
            "Mean of training error=2.357730906214814\n",
            "Mean of validation error=39.57655702462101\n",
            "Mean of time=12.349298095703125\n",
            "***************************************************\n",
            "learning_rate=0.001\n",
            "momentum=0.7\n",
            "batch size=8\n",
            "Mean of performance parameters:\n",
            "Mean of training error=2.3578078687880692\n",
            "Mean of validation error=39.576129715613575\n",
            "Mean of time=12.103591680526733\n",
            "***************************************************\n",
            "learning_rate=0.1\n",
            "momentum=0.9\n",
            "batch size=16\n",
            "Mean of performance parameters:\n",
            "Mean of training error=2.0051334960686984\n",
            "Mean of validation error=19.39772743573433\n",
            "Mean of time=12.792031621932983\n",
            "***************************************************\n",
            "learning_rate=0.1\n",
            "momentum=0.8\n",
            "batch size=16\n",
            "Mean of performance parameters:\n",
            "Mean of training error=2.0147303811326878\n",
            "Mean of validation error=19.408292827349875\n",
            "Mean of time=12.81889204978943\n",
            "***************************************************\n",
            "learning_rate=0.1\n",
            "momentum=0.7\n",
            "batch size=16\n",
            "Mean of performance parameters:\n",
            "Mean of training error=2.014737319443995\n",
            "Mean of validation error=19.403805903061926\n",
            "Mean of time=13.794923782348633\n",
            "***************************************************\n",
            "learning_rate=0.01\n",
            "momentum=0.9\n",
            "batch size=16\n",
            "Mean of performance parameters:\n",
            "Mean of training error=2.757176102810532\n",
            "Mean of validation error=25.967554055850833\n",
            "Mean of time=12.993099737167359\n",
            "***************************************************\n",
            "learning_rate=0.01\n",
            "momentum=0.8\n",
            "batch size=16\n",
            "Mean of performance parameters:\n",
            "Mean of training error=2.7583918923265087\n",
            "Mean of validation error=25.9692738617592\n",
            "Mean of time=12.744974851608276\n",
            "***************************************************\n",
            "learning_rate=0.01\n",
            "momentum=0.7\n",
            "batch size=16\n",
            "Mean of performance parameters:\n",
            "Mean of training error=2.7587611264733085\n",
            "Mean of validation error=25.96918549917989\n",
            "Mean of time=12.875816822052002\n",
            "***************************************************\n",
            "learning_rate=0.001\n",
            "momentum=0.9\n",
            "batch size=16\n",
            "Mean of performance parameters:\n",
            "Mean of training error=4.623075610170195\n",
            "Mean of validation error=39.57392273199464\n",
            "Mean of time=12.842929792404174\n",
            "***************************************************\n",
            "learning_rate=0.001\n",
            "momentum=0.8\n",
            "batch size=16\n",
            "Mean of performance parameters:\n",
            "Mean of training error=4.623193033105894\n",
            "Mean of validation error=39.57395124697753\n",
            "Mean of time=12.966896200180054\n",
            "***************************************************\n",
            "learning_rate=0.001\n",
            "momentum=0.7\n",
            "batch size=16\n",
            "Mean of performance parameters:\n",
            "Mean of training error=4.6232358490540975\n",
            "Mean of validation error=39.5738627713103\n",
            "Mean of time=13.064929676055907\n",
            "***************************************************\n",
            "learning_rate=0.1\n",
            "momentum=0.9\n",
            "batch size=32\n",
            "Mean of performance parameters:\n",
            "Mean of training error=3.7242825349451785\n",
            "Mean of validation error=19.358570269102774\n",
            "Mean of time=14.437023830413818\n",
            "***************************************************\n",
            "learning_rate=0.1\n",
            "momentum=0.8\n",
            "batch size=32\n",
            "Mean of performance parameters:\n",
            "Mean of training error=3.7292428029216595\n",
            "Mean of validation error=19.36488808926037\n",
            "Mean of time=14.255142164230346\n",
            "***************************************************\n",
            "learning_rate=0.1\n",
            "momentum=0.7\n",
            "batch size=32\n",
            "Mean of performance parameters:\n",
            "Mean of training error=3.7313396379810255\n",
            "Mean of validation error=19.365999019783988\n",
            "Mean of time=14.25680923461914\n",
            "***************************************************\n",
            "learning_rate=0.01\n",
            "momentum=0.9\n",
            "batch size=32\n",
            "Mean of performance parameters:\n",
            "Mean of training error=5.343717309455466\n",
            "Mean of validation error=25.9610337567923\n",
            "Mean of time=14.64912805557251\n",
            "***************************************************\n",
            "learning_rate=0.01\n",
            "momentum=0.8\n",
            "batch size=32\n",
            "Mean of performance parameters:\n",
            "Mean of training error=5.344449499656354\n",
            "Mean of validation error=25.96230234793685\n",
            "Mean of time=14.235673189163208\n",
            "***************************************************\n",
            "learning_rate=0.01\n",
            "momentum=0.7\n",
            "batch size=32\n",
            "Mean of performance parameters:\n",
            "Mean of training error=5.34484356143949\n",
            "Mean of validation error=25.962795985607592\n",
            "Mean of time=14.190628862380981\n",
            "***************************************************\n",
            "learning_rate=0.001\n",
            "momentum=0.9\n",
            "batch size=32\n",
            "Mean of performance parameters:\n",
            "Mean of training error=8.992710425738636\n",
            "Mean of validation error=39.57110131975564\n",
            "Mean of time=14.09226040840149\n",
            "***************************************************\n",
            "learning_rate=0.001\n",
            "momentum=0.8\n",
            "batch size=32\n",
            "Mean of performance parameters:\n",
            "Mean of training error=8.992771954064173\n",
            "Mean of validation error=39.571118264417215\n",
            "Mean of time=14.185866594314575\n",
            "***************************************************\n",
            "learning_rate=0.001\n",
            "momentum=0.7\n",
            "batch size=32\n",
            "Mean of performance parameters:\n",
            "Mean of training error=8.992823176487756\n",
            "Mean of validation error=39.57113102267207\n",
            "Mean of time=14.383848762512207\n",
            "***************************************************\n",
            "learning_rate=0.1\n",
            "momentum=0.9\n",
            "batch size=64\n",
            "Mean of performance parameters:\n",
            "Mean of training error=8.071859671494906\n",
            "Mean of validation error=19.27650515437797\n",
            "Mean of time=16.866366815567016\n",
            "***************************************************\n",
            "learning_rate=0.1\n",
            "momentum=0.8\n",
            "batch size=64\n",
            "Mean of performance parameters:\n",
            "Mean of training error=8.07248887519231\n",
            "Mean of validation error=19.278041755343864\n",
            "Mean of time=16.84542589187622\n",
            "***************************************************\n",
            "learning_rate=0.1\n",
            "momentum=0.7\n",
            "batch size=64\n",
            "Mean of performance parameters:\n",
            "Mean of training error=8.071899228886704\n",
            "Mean of validation error=19.278587906602063\n",
            "Mean of time=16.974813413619994\n",
            "***************************************************\n",
            "learning_rate=0.01\n",
            "momentum=0.9\n",
            "batch size=64\n",
            "Mean of performance parameters:\n",
            "Mean of training error=11.337081713957986\n",
            "Mean of validation error=25.964013143668648\n",
            "Mean of time=17.063073682785035\n",
            "***************************************************\n",
            "learning_rate=0.01\n",
            "momentum=0.8\n",
            "batch size=64\n",
            "Mean of performance parameters:\n",
            "Mean of training error=11.337305052344496\n",
            "Mean of validation error=25.964434354690745\n",
            "Mean of time=16.811760663986206\n",
            "***************************************************\n",
            "learning_rate=0.01\n",
            "momentum=0.7\n",
            "batch size=64\n",
            "Mean of performance parameters:\n",
            "Mean of training error=11.337402773741676\n",
            "Mean of validation error=25.96470217281825\n",
            "Mean of time=16.87324962615967\n",
            "***************************************************\n",
            "learning_rate=0.001\n",
            "momentum=0.9\n",
            "batch size=64\n",
            "Mean of performance parameters:\n",
            "Mean of training error=18.338639918600858\n",
            "Mean of validation error=39.596713489234745\n",
            "Mean of time=17.204142570495605\n",
            "***************************************************\n",
            "learning_rate=0.001\n",
            "momentum=0.8\n",
            "batch size=64\n",
            "Mean of performance parameters:\n",
            "Mean of training error=18.338612415169685\n",
            "Mean of validation error=39.596633757574104\n",
            "Mean of time=16.87935676574707\n",
            "***************************************************\n",
            "learning_rate=0.001\n",
            "momentum=0.7\n",
            "batch size=64\n",
            "Mean of performance parameters:\n",
            "Mean of training error=18.338627696862527\n",
            "Mean of validation error=39.59663769090912\n",
            "Mean of time=16.790004110336305\n",
            "***************************************************\n"
          ],
          "name": "stdout"
        }
      ]
    },
    {
      "cell_type": "markdown",
      "metadata": {
        "id": "HdbCPrKN54jl"
      },
      "source": [
        "Now that we have the performance information of every combination of hyperparameters, we will select the row that contains the lowest Mean of Validation Error as our candidate."
      ]
    },
    {
      "cell_type": "code",
      "metadata": {
        "colab": {
          "base_uri": "https://localhost:8080/"
        },
        "id": "XEC1f5cC56hf",
        "outputId": "1f366ef3-5c37-4df5-e198-d56b9a1e2908"
      },
      "source": [
        "GridSearchResult2=GridSearchResult2.append(GridSearchResult2.min(numeric_only=True), ignore_index=True)\n",
        "\n",
        "leastMVE2=GridSearchResult2.iloc[-1]['Mean of Validation Error']\n",
        "tunedLearningRate2=GridSearchResult2.loc[GridSearchResult2['Mean of Validation Error']==leastMVE2,'Learning rate'].iloc[0]\n",
        "tunedMomentum2=GridSearchResult2.loc[GridSearchResult2['Mean of Validation Error']==leastMVE2,'Momentum'].iloc[0]\n",
        "tunedBatchSize2=GridSearchResult2.loc[GridSearchResult2['Mean of Validation Error']==leastMVE2,'Batch size'].iloc[0]\n",
        "\n",
        "print('The least Mean of Validation Error is :'+str(leastMVE2))\n",
        "print('acquired while learning rate = '+str(tunedLearningRate2)+\n",
        "      ', momentum = '+str(tunedMomentum2)+' and batch size = '+str(tunedBatchSize2))"
      ],
      "execution_count": 40,
      "outputs": [
        {
          "output_type": "stream",
          "text": [
            "The least Mean of Validation Error is :19.27650515437797\n",
            "acquired while learning rate = 0.1, momentum = 0.9 and batch size = 64.0\n"
          ],
          "name": "stdout"
        }
      ]
    },
    {
      "cell_type": "code",
      "metadata": {
        "colab": {
          "base_uri": "https://localhost:8080/"
        },
        "id": "l2QPY_PIMzh6",
        "outputId": "c0268ad9-71aa-499b-f9bb-54f4dee294b5"
      },
      "source": [
        "x=GridSearchResult2.loc[GridSearchResult2['Mean of Validation Error']==leastMVE2,'Mean of Training Error'].iloc[0]\n",
        "print(x)"
      ],
      "execution_count": 57,
      "outputs": [
        {
          "output_type": "stream",
          "text": [
            "8.071859671494906\n"
          ],
          "name": "stdout"
        }
      ]
    },
    {
      "cell_type": "markdown",
      "metadata": {
        "id": "HgGhxilk6Tjq"
      },
      "source": [
        "**Fitting the Softmax Model**\n",
        "\n",
        "We have tuned our hyperparameters and now we can fit the model with training data using a five fold cross validation approach"
      ]
    },
    {
      "cell_type": "code",
      "metadata": {
        "colab": {
          "base_uri": "https://localhost:8080/",
          "height": 1000
        },
        "id": "HZL6gJ2S6D34",
        "outputId": "892a5fc4-8c85-4905-b53b-1348a3213b36"
      },
      "source": [
        "from sklearn.utils import shuffle\n",
        "\n",
        "scaler = MinMaxScaler()\n",
        "df=pd.read_csv('vehicle.csv', sep=',')\n",
        "df = shuffle(df)\n",
        "\n",
        "df = df.astype({\"Class\":'category'})\n",
        "x=df.iloc[:,:-1]\n",
        "y=df.iloc[:,-1]\n",
        "x[:] = scaler.fit_transform(x[:])\n",
        "y = y.cat.codes\n",
        "\n",
        "# Preprocessing\n",
        "if x.ndim == 1:\n",
        "    x = x[:, None]\n",
        "N = x.shape[0]\n",
        "x = np.column_stack([x,np.ones(N)])\n",
        "\n",
        "X_train, X_test, y_train, y_test = train_test_split(x, y, test_size=0.2, random_state=42)\n",
        "numOfFolds=5\n",
        "y_train=onehotcoder(y_train)\n",
        "\n",
        "folds=crossSplit(X_train,y_train,numOfFolds)\n",
        "counter=1\n",
        "w_history=[]\n",
        "\n",
        "softreg2 = SoftmaxRegression(folds=5)\n",
        "for f in folds:\n",
        "    print('Fold '+str(counter))\n",
        "    opt=Optimizer(learning_rate=tunedLearningRate2, mom=tunedMomentum2, batchSize=int(tunedBatchSize2), tuning=False)\n",
        "    w=softreg2.fit(f,opt)\n",
        "    counter+=1\n",
        "softreg2.endTraining()"
      ],
      "execution_count": 41,
      "outputs": [
        {
          "output_type": "stream",
          "text": [
            "Fold 1\n",
            "terminated after 100000 iterations, with norm of the gradient equal to 0.12895982892639035\n",
            "minimum training error=8.943551395193285\n",
            "minimum validation error=19.589820077794005\n",
            "time=17.353994846343994\n"
          ],
          "name": "stdout"
        },
        {
          "output_type": "display_data",
          "data": {
            "image/png": "[encoded data removed]",
            "text/plain": [
              "<Figure size 432x288 with 1 Axes>"
            ]
          },
          "metadata": {
            "tags": [],
            "needs_background": "light"
          }
        },
        {
          "output_type": "stream",
          "text": [
            "Fold 2\n",
            "terminated after 100000 iterations, with norm of the gradient equal to 0.11874824365687252\n",
            "minimum training error=8.508300960282984\n",
            "minimum validation error=23.17480559523839\n",
            "time=17.371674060821533\n"
          ],
          "name": "stdout"
        },
        {
          "output_type": "display_data",
          "data": {
            "image/png": "[encoded data removed]",
            "text/plain": [
              "<Figure size 432x288 with 1 Axes>"
            ]
          },
          "metadata": {
            "tags": [],
            "needs_background": "light"
          }
        },
        {
          "output_type": "stream",
          "text": [
            "Fold 3\n",
            "terminated after 100000 iterations, with norm of the gradient equal to 0.1364850446901629\n",
            "minimum training error=11.43079238019348\n",
            "minimum validation error=20.204387521468107\n",
            "time=17.329921007156372\n"
          ],
          "name": "stdout"
        },
        {
          "output_type": "display_data",
          "data": {
            "image/png": "[encoded data removed]",
            "text/plain": [
              "<Figure size 432x288 with 1 Axes>"
            ]
          },
          "metadata": {
            "tags": [],
            "needs_background": "light"
          }
        },
        {
          "output_type": "stream",
          "text": [
            "Fold 4\n",
            "terminated after 100000 iterations, with norm of the gradient equal to 0.07177256124251098\n",
            "minimum training error=9.721465181140738\n",
            "minimum validation error=21.787810864055917\n",
            "time=17.61085033416748\n"
          ],
          "name": "stdout"
        },
        {
          "output_type": "display_data",
          "data": {
            "image/png": "[encoded data removed]",
            "text/plain": [
              "<Figure size 432x288 with 1 Axes>"
            ]
          },
          "metadata": {
            "tags": [],
            "needs_background": "light"
          }
        },
        {
          "output_type": "stream",
          "text": [
            "Fold 5\n",
            "terminated after 100000 iterations, with norm of the gradient equal to 0.11906295211007946\n",
            "minimum training error=7.520562762843003\n",
            "minimum validation error=18.143075166082824\n",
            "time=17.513060331344604\n"
          ],
          "name": "stdout"
        },
        {
          "output_type": "display_data",
          "data": {
            "image/png": "[encoded data removed]",
            "text/plain": [
              "<Figure size 432x288 with 1 Axes>"
            ]
          },
          "metadata": {
            "tags": [],
            "needs_background": "light"
          }
        },
        {
          "output_type": "stream",
          "text": [
            "Mean of performance parameters:\n",
            "Mean of training error=9.224934535930696\n",
            "Mean of validation error=20.57997984492785\n",
            "Mean of time=17.435900115966795\n",
            "***************************************************\n"
          ],
          "name": "stdout"
        },
        {
          "output_type": "execute_result",
          "data": {
            "text/plain": [
              "(9.224934535930696, 20.57997984492785, 17.435900115966795)"
            ]
          },
          "metadata": {
            "tags": []
          },
          "execution_count": 41
        }
      ]
    },
    {
      "cell_type": "markdown",
      "metadata": {
        "id": "em441MuB6Q_Z"
      },
      "source": [
        "**Testing the Softmax Model**\n",
        "\n",
        "The model is fitted with training data. Let's test its accuracy using unseen data."
      ]
    },
    {
      "cell_type": "code",
      "metadata": {
        "colab": {
          "base_uri": "https://localhost:8080/"
        },
        "id": "EjlLxit06GPc",
        "outputId": "d7cb719a-bbc0-4d9a-d36d-53d707849c82"
      },
      "source": [
        "yh=softreg2.predict(X_test)\n",
        "print('Model accuracy is :'+'%.2f'%accuracy_score(y_test, yh))"
      ],
      "execution_count": 42,
      "outputs": [
        {
          "output_type": "stream",
          "text": [
            "Model accuracy is :0.79\n"
          ],
          "name": "stdout"
        }
      ]
    },
    {
      "cell_type": "markdown",
      "metadata": {
        "id": "sqiZxIoF6Rdx"
      },
      "source": [
        "### Plotting performance variables changes over hyperparameter\n",
        "This function plots a scatter plot of mean of validation error changing over the selected hyperparameter"
      ]
    },
    {
      "cell_type": "code",
      "metadata": {
        "id": "6WBPruxS6Ivh"
      },
      "source": [
        "def plotHyperParams(param,gridResult):\n",
        "    np.random.seed(19680801)\n",
        "    N = 37\n",
        "    x = gridResult[param]\n",
        "    y = gridResult['Mean of Validation Error']\n",
        "    colors = np.random.rand(N)\n",
        "    area = (30 * np.random.rand(N))**2  # 0 to 15 point radii\n",
        "\n",
        "    plt.scatter(x, y, s=area, c=colors, alpha=0.5)\n",
        "    plt.xlabel(param)\n",
        "    plt.ylabel('Mean of Validation Error')\n",
        "    plt.title('Mean of Validation Error changing over '+param)\n",
        "    plt.legend()\n",
        "    plt.show()"
      ],
      "execution_count": 43,
      "outputs": []
    },
    {
      "cell_type": "markdown",
      "metadata": {
        "id": "cklfprDq6SL6"
      },
      "source": [
        "Here we use the plotHyperParams function to plot how mean of validation error changes over Learning rate, Momentum and Batch size."
      ]
    },
    {
      "cell_type": "code",
      "metadata": {
        "colab": {
          "base_uri": "https://localhost:8080/",
          "height": 902
        },
        "id": "rsJ4qgZI6Kix",
        "outputId": "5a720979-7cfd-4a2c-e739-1ee77d6dd778"
      },
      "source": [
        "for param in ['Learning rate','Momentum','Batch size']:\n",
        "    plotHyperParams(param,GridSearchResult)"
      ],
      "execution_count": 44,
      "outputs": [
        {
          "output_type": "stream",
          "text": [
            "No handles with labels found to put in legend.\n"
          ],
          "name": "stderr"
        },
        {
          "output_type": "display_data",
          "data": {
            "image/png": "[encoded data removed]",
            "text/plain": [
              "<Figure size 432x288 with 1 Axes>"
            ]
          },
          "metadata": {
            "tags": [],
            "needs_background": "light"
          }
        },
        {
          "output_type": "stream",
          "text": [
            "No handles with labels found to put in legend.\n"
          ],
          "name": "stderr"
        },
        {
          "output_type": "display_data",
          "data": {
            "image/png": "[encoded data removed]",
            "text/plain": [
              "<Figure size 432x288 with 1 Axes>"
            ]
          },
          "metadata": {
            "tags": [],
            "needs_background": "light"
          }
        },
        {
          "output_type": "stream",
          "text": [
            "No handles with labels found to put in legend.\n"
          ],
          "name": "stderr"
        },
        {
          "output_type": "display_data",
          "data": {
            "image/png": "[encoded data removed]",
            "text/plain": [
              "<Figure size 432x288 with 1 Axes>"
            ]
          },
          "metadata": {
            "tags": [],
            "needs_background": "light"
          }
        }
      ]
    },
    {
      "cell_type": "code",
      "metadata": {
        "colab": {
          "base_uri": "https://localhost:8080/",
          "height": 902
        },
        "id": "HqracLU06MwK",
        "outputId": "58c08a1c-9049-4179-f5b6-4d62f53a4109"
      },
      "source": [
        "for param in ['Learning rate','Momentum','Batch size']:\n",
        "    plotHyperParams(param,GridSearchResult2)"
      ],
      "execution_count": 45,
      "outputs": [
        {
          "output_type": "stream",
          "text": [
            "No handles with labels found to put in legend.\n"
          ],
          "name": "stderr"
        },
        {
          "output_type": "display_data",
          "data": {
            "image/png": "[encoded data removed]",
            "text/plain": [
              "<Figure size 432x288 with 1 Axes>"
            ]
          },
          "metadata": {
            "tags": [],
            "needs_background": "light"
          }
        },
        {
          "output_type": "stream",
          "text": [
            "No handles with labels found to put in legend.\n"
          ],
          "name": "stderr"
        },
        {
          "output_type": "display_data",
          "data": {
            "image/png": "[encoded data removed]",
            "text/plain": [
              "<Figure size 432x288 with 1 Axes>"
            ]
          },
          "metadata": {
            "tags": [],
            "needs_background": "light"
          }
        },
        {
          "output_type": "stream",
          "text": [
            "No handles with labels found to put in legend.\n"
          ],
          "name": "stderr"
        },
        {
          "output_type": "display_data",
          "data": {
            "image/png": "[encoded data removed]",
            "text/plain": [
              "<Figure size 432x288 with 1 Axes>"
            ]
          },
          "metadata": {
            "tags": [],
            "needs_background": "light"
          }
        }
      ]
    },
    {
      "cell_type": "markdown",
      "metadata": {
        "id": "Q31xgoH77m55"
      },
      "source": [
        "## KNN Classifier\n",
        "In this section we provide a knn classifier that plots K changing over mean absolute error of the model"
      ]
    },
    {
      "cell_type": "code",
      "metadata": {
        "id": "SiKOpoKb76yG"
      },
      "source": [
        "class knnClassifier:\n",
        "    \n",
        "    def __init__(self, x_train, x_test, y_train, y_test):\n",
        "        self.x_train = x_train\n",
        "        self.x_test = x_test\n",
        "        self.y_train = y_train\n",
        "        self.y_test = y_test\n",
        "        self.k=self.findBestK()\n",
        "        print('K is tuned to be: '+str(self.k))\n",
        "        return\n",
        "    \n",
        "    def getBestK(self):\n",
        "        return self.k\n",
        "    \n",
        "    #function to calculate mean absoloute error for the specified train and test \n",
        "    def score(self):\n",
        "        model = KNeighborsClassifier(n_neighbors = self.k)\n",
        "        model.fit(self.x_train,self.y_train)\n",
        "        y_pred=model.predict(self.x_test)\n",
        "        return metrics.mean_absolute_error(y_test, y_pred)  \n",
        "    \n",
        "    #function to find an array of mean absolute errors for each k in range(1,maxK)\n",
        "    def errorEstimation(self,maxK):\n",
        "        scores=[]\n",
        "        k2test=list(range(1,maxK))\n",
        "        for i in k2test:\n",
        "            self.k=i\n",
        "            sc=self.score()\n",
        "            scores.append(sc)\n",
        "        return scores\n",
        "    \n",
        "    #function to find best K if we split data based on date\n",
        "    def findBestK(self):\n",
        "        maxK=50\n",
        "        meanErr=self.errorEstimation(maxK)\n",
        "        \n",
        "        ax = plt.figure().gca()\n",
        "        ax.xaxis.set_major_locator(MaxNLocator(integer=True))\n",
        "        plt.suptitle('MAE values changing over K')\n",
        "        plt.xlabel('K value')\n",
        "        plt.ylabel('MAE values')\n",
        "        plt.legend()\n",
        "        plt.plot(list(range(1,maxK)),meanErr,'b')\n",
        "        plt.show()\n",
        "        return meanErr.index(min(meanErr))+1"
      ],
      "execution_count": 52,
      "outputs": []
    },
    {
      "cell_type": "markdown",
      "metadata": {
        "id": "Hmx5Zk5b8CQF"
      },
      "source": [
        "### First Dataset: digits\n",
        "Using the predefined knn classifier class, we will use 80% of the first dataset in a five fold cross validation format to fit the model. "
      ]
    },
    {
      "cell_type": "code",
      "metadata": {
        "colab": {
          "base_uri": "https://localhost:8080/",
          "height": 546
        },
        "id": "i_ZXqUqL8dY0",
        "outputId": "fffa0226-ed3f-49fd-de40-8424e990f8cf"
      },
      "source": [
        "#KNNClassifier:\n",
        "#first dataset\n",
        "start_time = time.time()\n",
        "x, y = datasets.load_digits(return_X_y=True)\n",
        "\n",
        "# Preprocessing\n",
        "if x.ndim == 1:\n",
        "    x = x[:, None]\n",
        "N = x.shape[0]\n",
        "x = np.column_stack([x,np.ones(N)])\n",
        "\n",
        "X_train, x_final_test, y_train, y_final_test = train_test_split(x, y, test_size=0.2, random_state=42)\n",
        "numOfFolds=5\n",
        "\n",
        "x=X_train\n",
        "y=y_train\n",
        "\n",
        "X_train, X_test, y_train, y_test = train_test_split(x, y, test_size=0.2, random_state=42)\n",
        "\n",
        "folds=crossSplit(x,y,numOfFolds)\n",
        "counter=1\n",
        "meanOfAcc=0\n",
        "\n",
        "model = knnClassifier(X_train, X_test, y_train, y_test)\n",
        "bestK = model.getBestK()\n",
        "\n",
        "for f in folds:\n",
        "    print('Fold '+str(counter))\n",
        "    x_test, y_test, x_train, y_train = f\n",
        "    model = KNeighborsClassifier(n_neighbors = bestK)\n",
        "    model.fit(x_train,y_train)\n",
        "    y_pred=model.predict(x_test)\n",
        "    acc=metrics.accuracy_score(y_test, y_pred)\n",
        "    print('Accuracy = '+str(acc))\n",
        "    meanOfAcc+=acc\n",
        "    counter+=1\n",
        "    \n",
        "meanOfAcc/=numOfFolds\n",
        "print('Mean of Accuracy for '+str(numOfFolds)+' folds = '+str(meanOfAcc))\n",
        "end_time = time.time()-start_time\n",
        "print('time spent: '+str(end_time))"
      ],
      "execution_count": 53,
      "outputs": [
        {
          "output_type": "stream",
          "text": [
            "No handles with labels found to put in legend.\n"
          ],
          "name": "stderr"
        },
        {
          "output_type": "display_data",
          "data": {
            "image/png": "[encoded data removed]",
            "text/plain": [
              "<Figure size 432x288 with 1 Axes>"
            ]
          },
          "metadata": {
            "tags": [],
            "needs_background": "light"
          }
        },
        {
          "output_type": "stream",
          "text": [
            "K is tuned to be: 3\n",
            "Fold 1\n",
            "Accuracy = 0.9965156794425087\n",
            "Fold 2\n",
            "Accuracy = 0.975609756097561\n",
            "Fold 3\n",
            "Accuracy = 0.975609756097561\n",
            "Fold 4\n",
            "Accuracy = 0.9965156794425087\n",
            "Fold 5\n",
            "Accuracy = 0.9825783972125436\n",
            "Mean of Accuracy for 5 folds = 0.9853658536585368\n",
            "time spent: 3.806335687637329\n"
          ],
          "name": "stdout"
        }
      ]
    },
    {
      "cell_type": "markdown",
      "metadata": {
        "id": "PG_UApSW8f8n"
      },
      "source": [
        "Now that KNN is fitted with the training data of the first dataset, we will test the model using the unseen test data."
      ]
    },
    {
      "cell_type": "code",
      "metadata": {
        "colab": {
          "base_uri": "https://localhost:8080/"
        },
        "id": "gtpGIAS38orU",
        "outputId": "f42d95ec-c6b9-4360-8590-33e6a10cf96a"
      },
      "source": [
        "model = KNeighborsClassifier(n_neighbors = bestK)\n",
        "model.fit(x,y)\n",
        "y_pred=model.predict(x_final_test)\n",
        "acc=metrics.accuracy_score(y_final_test, y_pred)\n",
        "print('Accuracy for unseen data is: '+str(acc))"
      ],
      "execution_count": 54,
      "outputs": [
        {
          "output_type": "stream",
          "text": [
            "Accuracy for unseen data is: 0.9833333333333333\n"
          ],
          "name": "stdout"
        }
      ]
    },
    {
      "cell_type": "markdown",
      "metadata": {
        "id": "RqLGznn47_Ba"
      },
      "source": [
        "### Second Dataset: vehicles\n",
        "Again, using the predefined knn classifier class, we will use 80% of the second dataset in a five fold cross validation format to fit the model. "
      ]
    },
    {
      "cell_type": "code",
      "metadata": {
        "colab": {
          "base_uri": "https://localhost:8080/",
          "height": 546
        },
        "id": "p5GWhLqI82lx",
        "outputId": "128469c4-a13f-4efa-e54f-fe3bed36eea0"
      },
      "source": [
        "#KNNClassifier:\n",
        "#Second dataset\n",
        "start_time = time.time()\n",
        "from sklearn.utils import shuffle\n",
        "\n",
        "scaler = MinMaxScaler()\n",
        "df=pd.read_csv('vehicle.csv', sep=',')\n",
        "df = shuffle(df)\n",
        "\n",
        "df = df.astype({\"Class\":'category'})\n",
        "x=df.iloc[:,:-1]\n",
        "y=df.iloc[:,-1]\n",
        "x[:] = scaler.fit_transform(x[:])\n",
        "y = y.cat.codes\n",
        "\n",
        "# Preprocessing\n",
        "if x.ndim == 1:\n",
        "    x = x[:, None]\n",
        "N = x.shape[0]\n",
        "x = np.column_stack([x,np.ones(N)])\n",
        "\n",
        "X_train, x_final_test, y_train, y_final_test = train_test_split(x, y, test_size=0.2, random_state=42)\n",
        "numOfFolds=5\n",
        "\n",
        "x=X_train\n",
        "y=y_train\n",
        "\n",
        "X_train, X_test, y_train, y_test = train_test_split(x, y, test_size=0.2, random_state=42)\n",
        "\n",
        "folds=crossSplit(x,y,numOfFolds)\n",
        "counter=1\n",
        "meanOfAcc=0\n",
        "\n",
        "model = knnClassifier(X_train, X_test, y_train, y_test)\n",
        "bestK = model.getBestK()\n",
        "\n",
        "for f in folds:\n",
        "    print('Fold '+str(counter))\n",
        "    x_test, y_test, x_train, y_train = f\n",
        "    model = KNeighborsClassifier(n_neighbors = bestK)\n",
        "    model.fit(x_train,y_train)\n",
        "    y_pred=model.predict(x_test)\n",
        "    acc=metrics.accuracy_score(y_test, y_pred)\n",
        "    print('Accuracy = '+str(acc))\n",
        "    meanOfAcc+=acc\n",
        "    counter+=1\n",
        "    \n",
        "meanOfAcc/=numOfFolds\n",
        "print('Mean of Accuracy for '+str(numOfFolds)+' folds = '+str(meanOfAcc))\n",
        "end_time = time.time()-start_time\n",
        "print('time spent: '+str(end_time))"
      ],
      "execution_count": 55,
      "outputs": [
        {
          "output_type": "stream",
          "text": [
            "No handles with labels found to put in legend.\n"
          ],
          "name": "stderr"
        },
        {
          "output_type": "display_data",
          "data": {
            "image/png": "[encoded data removed]",
            "text/plain": [
              "<Figure size 432x288 with 1 Axes>"
            ]
          },
          "metadata": {
            "tags": [],
            "needs_background": "light"
          }
        },
        {
          "output_type": "stream",
          "text": [
            "K is tuned to be: 3\n",
            "Fold 1\n",
            "Accuracy = 0.6888888888888889\n",
            "Fold 2\n",
            "Accuracy = 0.6888888888888889\n",
            "Fold 3\n",
            "Accuracy = 0.6888888888888889\n",
            "Fold 4\n",
            "Accuracy = 0.7407407407407407\n",
            "Fold 5\n",
            "Accuracy = 0.7555555555555555\n",
            "Mean of Accuracy for 5 folds = 0.7125925925925924\n",
            "time spent: 0.6916458606719971\n"
          ],
          "name": "stdout"
        }
      ]
    },
    {
      "cell_type": "markdown",
      "metadata": {
        "id": "POcXE_PE843r"
      },
      "source": [
        "Now that KNN is fitted with the training data of the first dataset, we will test the model using the unseen test data."
      ]
    },
    {
      "cell_type": "code",
      "metadata": {
        "colab": {
          "base_uri": "https://localhost:8080/"
        },
        "id": "aeaDsoRH87YY",
        "outputId": "d3a866b7-42ca-4b19-de39-4472a4c3a31a"
      },
      "source": [
        "model = KNeighborsClassifier(n_neighbors = bestK)\n",
        "model.fit(x,y)\n",
        "y_pred=model.predict(x_final_test)\n",
        "acc=metrics.accuracy_score(y_final_test, y_pred)\n",
        "print('Accuracy for unseen data is: '+str(acc))"
      ],
      "execution_count": 56,
      "outputs": [
        {
          "output_type": "stream",
          "text": [
            "Accuracy for unseen data is: 0.6882352941176471\n"
          ],
          "name": "stdout"
        }
      ]
    }
  ]
}